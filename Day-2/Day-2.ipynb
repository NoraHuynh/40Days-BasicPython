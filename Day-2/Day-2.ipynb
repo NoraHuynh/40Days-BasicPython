{
 "cells": [
  {
   "cell_type": "code",
   "execution_count": 1,
   "metadata": {},
   "outputs": [
    {
     "name": "stdout",
     "output_type": "stream",
     "text": [
      "Giáp Thìn\n",
      "Quý Mão\n",
      "Đinh Sửu\n"
     ]
    }
   ],
   "source": [
    "def calculate_can_chi_calendar(year):\n",
    "  result = ''\n",
    "  can_lst = ['Canh','Tân','Nhâm','Quý','Giáp','Ất','Bính','Đinh','Mậu','Kỷ']\n",
    "  chi_lst = ['Thân','Dậu','Tuất','Hợi','Tý','Sửu','Dần','Mão','Thìn','Tỵ','Ngọ',\n",
    "           'Mùi']\n",
    "  mod_can = year%10\n",
    "  mod_chi = year%12\n",
    "  result = can_lst[mod_can] + ' ' + chi_lst[mod_chi]\n",
    "  return result\n",
    "\n",
    "# Test_case\n",
    "print(calculate_can_chi_calendar(2024))\n",
    "print(calculate_can_chi_calendar(2023))\n",
    "print(calculate_can_chi_calendar(1997))"
   ]
  }
 ],
 "metadata": {
  "kernelspec": {
   "display_name": "aio_env",
   "language": "python",
   "name": "python3"
  },
  "language_info": {
   "codemirror_mode": {
    "name": "ipython",
    "version": 3
   },
   "file_extension": ".py",
   "mimetype": "text/x-python",
   "name": "python",
   "nbconvert_exporter": "python",
   "pygments_lexer": "ipython3",
   "version": "3.11.8"
  }
 },
 "nbformat": 4,
 "nbformat_minor": 2
}
